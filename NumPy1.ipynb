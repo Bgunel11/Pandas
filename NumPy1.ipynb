{
  "cells": [
    {
      "cell_type": "markdown",
      "metadata": {
        "id": "dFe2TT9JjzCc"
      },
      "source": [
        "# NumPy Yüklənməsi"
      ]
    },
    {
      "cell_type": "code",
      "execution_count": 1,
      "metadata": {
        "colab": {
          "base_uri": "https://localhost:8080/"
        },
        "id": "np6iSq2xirWy",
        "outputId": "ca34ad42-7f40-452a-da59-fe461d22db70"
      },
      "outputs": [
        {
          "output_type": "stream",
          "name": "stdout",
          "text": [
            "Requirement already satisfied: numpy in /usr/local/lib/python3.11/dist-packages (1.26.4)\n"
          ]
        }
      ],
      "source": [
        "# !pip install numpy"
      ]
    },
    {
      "cell_type": "markdown",
      "metadata": {
        "id": "rL2ikjyBkA3a"
      },
      "source": [
        "## NumPy import etmək"
      ]
    },
    {
      "cell_type": "code",
      "execution_count": 2,
      "metadata": {
        "id": "KbkDzCMTj9u2"
      },
      "outputs": [],
      "source": [
        "# import numpy\n",
        "import numpy as np"
      ]
    },
    {
      "cell_type": "markdown",
      "metadata": {
        "id": "jcK6uuY6kXoK"
      },
      "source": [
        "# NumPy arraylərini yaratmaq\n",
        "\n"
      ]
    },
    {
      "cell_type": "code",
      "execution_count": 3,
      "metadata": {
        "colab": {
          "base_uri": "https://localhost:8080/"
        },
        "id": "8wmGr04Kl_Ai",
        "outputId": "930f4163-833c-4e7c-822a-4f1e10481327"
      },
      "outputs": [
        {
          "output_type": "execute_result",
          "data": {
            "text/plain": [
              "array(53)"
            ]
          },
          "metadata": {},
          "execution_count": 3
        }
      ],
      "source": [
        "arr0d = np.array(53)\n",
        "arr0d"
      ]
    },
    {
      "cell_type": "code",
      "execution_count": 4,
      "metadata": {
        "colab": {
          "base_uri": "https://localhost:8080/"
        },
        "id": "gCF--EanmCGI",
        "outputId": "67e3e06c-9e1e-4c09-aa77-cf377534776a"
      },
      "outputs": [
        {
          "output_type": "execute_result",
          "data": {
            "text/plain": [
              "array([1, 2, 3, 4])"
            ]
          },
          "metadata": {},
          "execution_count": 4
        }
      ],
      "source": [
        "arr1d = np.array([1,2,3,4])\n",
        "arr1d"
      ]
    },
    {
      "cell_type": "code",
      "execution_count": 5,
      "metadata": {
        "colab": {
          "base_uri": "https://localhost:8080/"
        },
        "id": "FkRNMivqmWJR",
        "outputId": "d9c94150-517b-4222-b952-dce2af6f99f5"
      },
      "outputs": [
        {
          "output_type": "execute_result",
          "data": {
            "text/plain": [
              "array([[1, 2, 3],\n",
              "       [4, 5, 6]])"
            ]
          },
          "metadata": {},
          "execution_count": 5
        }
      ],
      "source": [
        "arr2d = np.array([[1,2,3] ,\n",
        "                  [4,5,6]])\n",
        "arr2d"
      ]
    },
    {
      "cell_type": "code",
      "execution_count": 6,
      "metadata": {
        "colab": {
          "base_uri": "https://localhost:8080/"
        },
        "id": "8wPvbAM9mwNh",
        "outputId": "eba5c131-4b31-48dd-ec80-c95c9b107d6d"
      },
      "outputs": [
        {
          "output_type": "execute_result",
          "data": {
            "text/plain": [
              "array([[[  1,   2,   3],\n",
              "        [  4,   5,   6]],\n",
              "\n",
              "       [[  7,   8,   9],\n",
              "        [100, 200, 300]]])"
            ]
          },
          "metadata": {},
          "execution_count": 6
        }
      ],
      "source": [
        "arr3d = np.array([[[1,2,3] ,\n",
        "                   [4,5,6]] ,\n",
        "                  [[7,8,9] ,\n",
        "                   [100,200,300]]])\n",
        "arr3d"
      ]
    },
    {
      "cell_type": "markdown",
      "metadata": {
        "id": "XG0NrOmTofOR"
      },
      "source": [
        "# Built-in Functionlarla sürətli NumPy Arrayləri yaratmaq"
      ]
    },
    {
      "cell_type": "code",
      "execution_count": 7,
      "metadata": {
        "colab": {
          "base_uri": "https://localhost:8080/"
        },
        "id": "KIr_sIyIo5-D",
        "outputId": "265b0764-76b1-47f5-ae12-8e27cc6fb021"
      },
      "outputs": [
        {
          "output_type": "execute_result",
          "data": {
            "text/plain": [
              "array([1, 2, 3, 4, 5, 6, 7, 8, 9])"
            ]
          },
          "metadata": {},
          "execution_count": 7
        }
      ],
      "source": [
        "np.array([1,2,3,4,5,6,7,8,9])"
      ]
    },
    {
      "cell_type": "code",
      "execution_count": 8,
      "metadata": {
        "colab": {
          "base_uri": "https://localhost:8080/"
        },
        "id": "pPIGG0BlpEJ6",
        "outputId": "690189fb-ba00-4d18-a28d-cdb640d57c0b"
      },
      "outputs": [
        {
          "output_type": "execute_result",
          "data": {
            "text/plain": [
              "array([1, 2, 3, 4, 5, 6, 7, 8, 9])"
            ]
          },
          "metadata": {},
          "execution_count": 8
        }
      ],
      "source": [
        "np.arange(1,10)"
      ]
    },
    {
      "cell_type": "code",
      "execution_count": 9,
      "metadata": {
        "colab": {
          "base_uri": "https://localhost:8080/"
        },
        "id": "qAe6D0s_pglQ",
        "outputId": "55d9a5c6-941a-46ae-fe63-cb898bae3a53"
      },
      "outputs": [
        {
          "output_type": "execute_result",
          "data": {
            "text/plain": [
              "array([ 30,  32,  34,  36,  38,  40,  42,  44,  46,  48,  50,  52,  54,\n",
              "        56,  58,  60,  62,  64,  66,  68,  70,  72,  74,  76,  78,  80,\n",
              "        82,  84,  86,  88,  90,  92,  94,  96,  98, 100])"
            ]
          },
          "metadata": {},
          "execution_count": 9
        }
      ],
      "source": [
        "np.arange(30,101,2)"
      ]
    },
    {
      "cell_type": "code",
      "execution_count": null,
      "metadata": {
        "colab": {
          "base_uri": "https://localhost:8080/"
        },
        "id": "QKMFxy4mpwE7",
        "outputId": "8ec226d9-68fc-4e42-adc6-a65f48e23da5"
      },
      "outputs": [
        {
          "data": {
            "text/plain": [
              "array([30, 34, 38, 42, 46, 50])"
            ]
          },
          "execution_count": 26,
          "metadata": {},
          "output_type": "execute_result"
        }
      ],
      "source": [
        "np.linspace(30,50,6 , dtype=int) # Endpoint daxildir."
      ]
    },
    {
      "cell_type": "code",
      "execution_count": 10,
      "metadata": {
        "colab": {
          "base_uri": "https://localhost:8080/"
        },
        "id": "IlxOcHcDp0IJ",
        "outputId": "73241482-95c6-44c1-f7ef-496d4526cfc1"
      },
      "outputs": [
        {
          "output_type": "execute_result",
          "data": {
            "text/plain": [
              "array([  10.        ,   31.6227766 ,  100.        ,  316.22776602,\n",
              "       1000.        ])"
            ]
          },
          "metadata": {},
          "execution_count": 10
        }
      ],
      "source": [
        "np.logspace(1,3 , 5) # 10**1 ilə 10**3 arasında logarifmik artış edərək 5 dənə saydan  ibarət bir array yaradır."
      ]
    },
    {
      "cell_type": "code",
      "execution_count": 11,
      "metadata": {
        "colab": {
          "base_uri": "https://localhost:8080/"
        },
        "id": "1tsNK91Mq0P_",
        "outputId": "0fbc1817-7137-4628-ea9d-556cdfd5f6f7"
      },
      "outputs": [
        {
          "output_type": "execute_result",
          "data": {
            "text/plain": [
              "array([ 10,  15,  20,  25,  30,  35,  40,  45,  50,  55,  60,  65,  70,\n",
              "        75,  80,  85,  90,  95, 100])"
            ]
          },
          "metadata": {},
          "execution_count": 11
        }
      ],
      "source": [
        "np.arange(10,101,5)"
      ]
    },
    {
      "cell_type": "code",
      "execution_count": 12,
      "metadata": {
        "colab": {
          "base_uri": "https://localhost:8080/"
        },
        "id": "3irhHyL7q0VK",
        "outputId": "056796ed-feab-43a9-d1ed-710977b2e21a"
      },
      "outputs": [
        {
          "output_type": "execute_result",
          "data": {
            "text/plain": [
              "array([   0.,   40.,   80.,  120.,  160.,  200.,  240.,  280.,  320.,\n",
              "        360.,  400.,  440.,  480.,  520.,  560.,  600.,  640.,  680.,\n",
              "        720.,  760.,  800.,  840.,  880.,  920.,  960., 1000.])"
            ]
          },
          "metadata": {},
          "execution_count": 12
        }
      ],
      "source": [
        "np.linspace(0,1000,26)"
      ]
    },
    {
      "cell_type": "code",
      "execution_count": 13,
      "metadata": {
        "colab": {
          "base_uri": "https://localhost:8080/"
        },
        "id": "5pUhQz8yq0Xm",
        "outputId": "9838c42a-7ed0-41fc-9d21-a6ea94e1c1c0"
      },
      "outputs": [
        {
          "output_type": "execute_result",
          "data": {
            "text/plain": [
              "array([0, 0, 0, 0, 0])"
            ]
          },
          "metadata": {},
          "execution_count": 13
        }
      ],
      "source": [
        "np.zeros(5 , dtype= 'int')"
      ]
    },
    {
      "cell_type": "code",
      "execution_count": 14,
      "metadata": {
        "colab": {
          "base_uri": "https://localhost:8080/"
        },
        "id": "dhePJ9bBq0Z6",
        "outputId": "5175beaf-9eb5-4de3-c8a9-a167374a3e15"
      },
      "outputs": [
        {
          "output_type": "execute_result",
          "data": {
            "text/plain": [
              "array([[0, 0, 0],\n",
              "       [0, 0, 0]])"
            ]
          },
          "metadata": {},
          "execution_count": 14
        }
      ],
      "source": [
        "np.zeros((2,3) , dtype= int)"
      ]
    },
    {
      "cell_type": "code",
      "execution_count": 15,
      "metadata": {
        "colab": {
          "base_uri": "https://localhost:8080/"
        },
        "id": "XiOg50mNsQyx",
        "outputId": "aaed21d9-e4ac-4bab-fa14-2fb9e35a2f85"
      },
      "outputs": [
        {
          "output_type": "execute_result",
          "data": {
            "text/plain": [
              "array([1, 1, 1, 1, 1, 1, 1, 1, 1, 1])"
            ]
          },
          "metadata": {},
          "execution_count": 15
        }
      ],
      "source": [
        "np.ones(10 , dtype = int)"
      ]
    },
    {
      "cell_type": "code",
      "execution_count": 16,
      "metadata": {
        "colab": {
          "base_uri": "https://localhost:8080/"
        },
        "id": "54JFAqkKwL23",
        "outputId": "1ec6a048-c95b-4ff8-d9bd-0babc06475de"
      },
      "outputs": [
        {
          "output_type": "execute_result",
          "data": {
            "text/plain": [
              "array([[1, 1, 1, 1, 1],\n",
              "       [1, 1, 1, 1, 1],\n",
              "       [1, 1, 1, 1, 1]])"
            ]
          },
          "metadata": {},
          "execution_count": 16
        }
      ],
      "source": [
        "np.ones((3,5) , dtype = int)"
      ]
    },
    {
      "cell_type": "code",
      "execution_count": 17,
      "metadata": {
        "colab": {
          "base_uri": "https://localhost:8080/"
        },
        "id": "SZgyoAv_wTe3",
        "outputId": "44f1777b-c784-48d1-8306-10ea92ffa248"
      },
      "outputs": [
        {
          "output_type": "execute_result",
          "data": {
            "text/plain": [
              "array([[[1, 1, 1, 1, 1],\n",
              "        [1, 1, 1, 1, 1],\n",
              "        [1, 1, 1, 1, 1]],\n",
              "\n",
              "       [[1, 1, 1, 1, 1],\n",
              "        [1, 1, 1, 1, 1],\n",
              "        [1, 1, 1, 1, 1]]])"
            ]
          },
          "metadata": {},
          "execution_count": 17
        }
      ],
      "source": [
        "np.ones((2,3,5) , dtype = int)"
      ]
    },
    {
      "cell_type": "code",
      "execution_count": 18,
      "metadata": {
        "colab": {
          "base_uri": "https://localhost:8080/"
        },
        "id": "rbfJS9BFwc9I",
        "outputId": "a46c1917-dfca-490f-89df-b98da3924f64"
      },
      "outputs": [
        {
          "output_type": "execute_result",
          "data": {
            "text/plain": [
              "array([[1, 0, 0, 0, 0],\n",
              "       [0, 1, 0, 0, 0],\n",
              "       [0, 0, 1, 0, 0],\n",
              "       [0, 0, 0, 1, 0],\n",
              "       [0, 0, 0, 0, 1]])"
            ]
          },
          "metadata": {},
          "execution_count": 18
        }
      ],
      "source": [
        "np.eye(5 , dtype = 'int') # 5x5 baş diaqonalı 1 lərdən ibarət qalan elementləri sıfır olan array yaradır"
      ]
    },
    {
      "cell_type": "code",
      "execution_count": 19,
      "metadata": {
        "colab": {
          "base_uri": "https://localhost:8080/"
        },
        "id": "UtRmAzhQxL9J",
        "outputId": "0f684230-f9dc-4996-babd-c1594e39de66"
      },
      "outputs": [
        {
          "output_type": "execute_result",
          "data": {
            "text/plain": [
              "array([[0, 0, 0, 0, 0, 0],\n",
              "       [0, 0, 0, 0, 0, 0]])"
            ]
          },
          "metadata": {},
          "execution_count": 19
        }
      ],
      "source": [
        "np.zeros((2,6) , dtype = int)"
      ]
    },
    {
      "cell_type": "code",
      "execution_count": 20,
      "metadata": {
        "colab": {
          "base_uri": "https://localhost:8080/"
        },
        "id": "5hzMHFZ6xVgH",
        "outputId": "57eb0ba1-bd0d-4f90-cf18-d503da61530e"
      },
      "outputs": [
        {
          "output_type": "execute_result",
          "data": {
            "text/plain": [
              "array([0.40044517, 0.24318265, 0.11905448])"
            ]
          },
          "metadata": {},
          "execution_count": 20
        }
      ],
      "source": [
        "np.random.rand(3)"
      ]
    },
    {
      "cell_type": "code",
      "execution_count": 21,
      "metadata": {
        "colab": {
          "base_uri": "https://localhost:8080/"
        },
        "id": "imaYfWKUxtX1",
        "outputId": "26794a0c-92e7-4fb7-b150-63396bfe12ae"
      },
      "outputs": [
        {
          "output_type": "execute_result",
          "data": {
            "text/plain": [
              "array([[0.75904201, 0.02067442, 0.00924612, 0.82098825, 0.43375068],\n",
              "       [0.77069521, 0.84952215, 0.4119766 , 0.49786935, 0.34361718]])"
            ]
          },
          "metadata": {},
          "execution_count": 21
        }
      ],
      "source": [
        "np.random.rand(2,5)"
      ]
    },
    {
      "cell_type": "code",
      "execution_count": 22,
      "metadata": {
        "colab": {
          "base_uri": "https://localhost:8080/"
        },
        "id": "fpAZn4Ptx7Kl",
        "outputId": "378302a2-a37b-46fb-8dce-8377024833f4"
      },
      "outputs": [
        {
          "output_type": "execute_result",
          "data": {
            "text/plain": [
              "array([1.50119435, 5.32009474, 4.6740628 ])"
            ]
          },
          "metadata": {},
          "execution_count": 22
        }
      ],
      "source": [
        "np.random.rand(3) * 10"
      ]
    },
    {
      "cell_type": "code",
      "execution_count": 24,
      "metadata": {
        "colab": {
          "base_uri": "https://localhost:8080/"
        },
        "id": "gKXGGr8AyNGI",
        "outputId": "f1d2ab67-ea85-4180-e385-55aafd9146c0"
      },
      "outputs": [
        {
          "output_type": "execute_result",
          "data": {
            "text/plain": [
              "array([47, 35, 17, 25, 29])"
            ]
          },
          "metadata": {},
          "execution_count": 24
        }
      ],
      "source": [
        "np.random.randint(15,50,5)"
      ]
    },
    {
      "cell_type": "code",
      "execution_count": 25,
      "metadata": {
        "colab": {
          "base_uri": "https://localhost:8080/"
        },
        "id": "a1Qt6_c6yhiY",
        "outputId": "66db707c-ce99-455c-e335-20d0addf0177"
      },
      "outputs": [
        {
          "output_type": "execute_result",
          "data": {
            "text/plain": [
              "array([[68,  3, 48, 72, 67, 40],\n",
              "       [73, 19, 50, 86, 13, 89],\n",
              "       [70, 52, 21, 18, 79, 17]])"
            ]
          },
          "metadata": {},
          "execution_count": 25
        }
      ],
      "source": [
        "np.random.randint(0,100, (3,6))"
      ]
    },
    {
      "cell_type": "code",
      "execution_count": 26,
      "metadata": {
        "colab": {
          "base_uri": "https://localhost:8080/"
        },
        "id": "WIObAENTzSs3",
        "outputId": "f49f4489-6f90-4bed-a7a3-093a432f7f82"
      },
      "outputs": [
        {
          "output_type": "execute_result",
          "data": {
            "text/plain": [
              "array([[32, 31, 15, 43,  1,  9],\n",
              "       [ 3, 36, 30, 37, 12,  4],\n",
              "       [ 1, 18,  5, 45, 35, 37],\n",
              "       [13, 36, 31, 22, 19, 38]])"
            ]
          },
          "metadata": {},
          "execution_count": 26
        }
      ],
      "source": [
        "np.random.randint(0,50, (4,6))"
      ]
    },
    {
      "cell_type": "markdown",
      "metadata": {
        "id": "fqTy8LGSzY6x"
      },
      "source": [
        "# Arrayin  Shape'ini idarə etmək"
      ]
    },
    {
      "cell_type": "code",
      "execution_count": 27,
      "metadata": {
        "colab": {
          "base_uri": "https://localhost:8080/"
        },
        "id": "7U3713XmzW9v",
        "outputId": "5f86e5fc-353f-4a82-888b-d16ad0ba27bb"
      },
      "outputs": [
        {
          "output_type": "execute_result",
          "data": {
            "text/plain": [
              "array(53)"
            ]
          },
          "metadata": {},
          "execution_count": 27
        }
      ],
      "source": [
        "arr0d\n"
      ]
    },
    {
      "cell_type": "code",
      "execution_count": 28,
      "metadata": {
        "colab": {
          "base_uri": "https://localhost:8080/"
        },
        "id": "og3hst38zmgX",
        "outputId": "a3168cb8-d80f-422d-b664-33625f2d4175"
      },
      "outputs": [
        {
          "output_type": "execute_result",
          "data": {
            "text/plain": [
              "array([1, 2, 3, 4])"
            ]
          },
          "metadata": {},
          "execution_count": 28
        }
      ],
      "source": [
        "arr1d"
      ]
    },
    {
      "cell_type": "code",
      "execution_count": 29,
      "metadata": {
        "colab": {
          "base_uri": "https://localhost:8080/"
        },
        "id": "Ku2kXfMNznqm",
        "outputId": "6d458f96-8e60-471c-d720-8571d78d5ff3"
      },
      "outputs": [
        {
          "output_type": "execute_result",
          "data": {
            "text/plain": [
              "array([[1, 2, 3],\n",
              "       [4, 5, 6]])"
            ]
          },
          "metadata": {},
          "execution_count": 29
        }
      ],
      "source": [
        "arr2d"
      ]
    },
    {
      "cell_type": "code",
      "execution_count": 30,
      "metadata": {
        "colab": {
          "base_uri": "https://localhost:8080/"
        },
        "id": "fQP7uNBDzozA",
        "outputId": "37b6efa1-b6f2-4c01-ae9b-9678d486d81f"
      },
      "outputs": [
        {
          "output_type": "execute_result",
          "data": {
            "text/plain": [
              "array([[[  1,   2,   3],\n",
              "        [  4,   5,   6]],\n",
              "\n",
              "       [[  7,   8,   9],\n",
              "        [100, 200, 300]]])"
            ]
          },
          "metadata": {},
          "execution_count": 30
        }
      ],
      "source": [
        "arr3d"
      ]
    },
    {
      "cell_type": "code",
      "execution_count": null,
      "metadata": {
        "id": "lsTk6cjjzpr_"
      },
      "outputs": [],
      "source": [
        "# .ndim attribute"
      ]
    },
    {
      "cell_type": "code",
      "execution_count": null,
      "metadata": {
        "colab": {
          "base_uri": "https://localhost:8080/"
        },
        "id": "yqJ6Isfhz3OF",
        "outputId": "a91af0f0-7501-41fd-bcce-3aa1695ba6fa"
      },
      "outputs": [
        {
          "data": {
            "text/plain": [
              "0"
            ]
          },
          "execution_count": 55,
          "metadata": {},
          "output_type": "execute_result"
        }
      ],
      "source": [
        "arr0d.ndim\n"
      ]
    },
    {
      "cell_type": "code",
      "execution_count": 31,
      "metadata": {
        "colab": {
          "base_uri": "https://localhost:8080/"
        },
        "id": "oDGqxfECz4FX",
        "outputId": "cd484de8-8695-407d-c6bd-31e88a2610eb"
      },
      "outputs": [
        {
          "output_type": "execute_result",
          "data": {
            "text/plain": [
              "1"
            ]
          },
          "metadata": {},
          "execution_count": 31
        }
      ],
      "source": [
        "arr1d.ndim"
      ]
    },
    {
      "cell_type": "code",
      "execution_count": 32,
      "metadata": {
        "colab": {
          "base_uri": "https://localhost:8080/"
        },
        "id": "3CRSp5ibz5Hv",
        "outputId": "e10dc1b1-8f83-4f48-abf4-5527ea45152b"
      },
      "outputs": [
        {
          "output_type": "execute_result",
          "data": {
            "text/plain": [
              "2"
            ]
          },
          "metadata": {},
          "execution_count": 32
        }
      ],
      "source": [
        "arr2d.ndim"
      ]
    },
    {
      "cell_type": "code",
      "execution_count": 33,
      "metadata": {
        "colab": {
          "base_uri": "https://localhost:8080/"
        },
        "id": "yDhoS2fFz6LH",
        "outputId": "accf580b-fd4c-452c-bacd-b1fa01298c6e"
      },
      "outputs": [
        {
          "output_type": "execute_result",
          "data": {
            "text/plain": [
              "3"
            ]
          },
          "metadata": {},
          "execution_count": 33
        }
      ],
      "source": [
        "arr3d.ndim\n"
      ]
    },
    {
      "cell_type": "code",
      "execution_count": 34,
      "metadata": {
        "colab": {
          "base_uri": "https://localhost:8080/"
        },
        "id": "0x6s3w6Bz6__",
        "outputId": "fff350a6-cdbf-4a7e-db4d-b4019c981615"
      },
      "outputs": [
        {
          "output_type": "execute_result",
          "data": {
            "text/plain": [
              "array([[1, 2, 3],\n",
              "       [4, 5, 6]])"
            ]
          },
          "metadata": {},
          "execution_count": 34
        }
      ],
      "source": [
        "arr2d"
      ]
    },
    {
      "cell_type": "code",
      "execution_count": null,
      "metadata": {
        "id": "-D7AmsOBz_Mn"
      },
      "outputs": [],
      "source": [
        "# .shape attribute"
      ]
    },
    {
      "cell_type": "code",
      "execution_count": 35,
      "metadata": {
        "colab": {
          "base_uri": "https://localhost:8080/"
        },
        "id": "LdI07YQz0OYQ",
        "outputId": "432a216a-c885-4502-fe6d-5c04008d2e5d"
      },
      "outputs": [
        {
          "output_type": "execute_result",
          "data": {
            "text/plain": [
              "(2, 3)"
            ]
          },
          "metadata": {},
          "execution_count": 35
        }
      ],
      "source": [
        "arr2d.shape"
      ]
    },
    {
      "cell_type": "code",
      "execution_count": 36,
      "metadata": {
        "colab": {
          "base_uri": "https://localhost:8080/"
        },
        "id": "YX6ewnl90PBv",
        "outputId": "b6e0bd87-def3-4353-fc86-b7394daf43e0"
      },
      "outputs": [
        {
          "output_type": "execute_result",
          "data": {
            "text/plain": [
              "array([[[  1,   2,   3],\n",
              "        [  4,   5,   6]],\n",
              "\n",
              "       [[  7,   8,   9],\n",
              "        [100, 200, 300]]])"
            ]
          },
          "metadata": {},
          "execution_count": 36
        }
      ],
      "source": [
        "arr3d"
      ]
    },
    {
      "cell_type": "code",
      "execution_count": 37,
      "metadata": {
        "colab": {
          "base_uri": "https://localhost:8080/"
        },
        "id": "0TlpAAV_0SG3",
        "outputId": "3cc8d409-90e0-449e-9648-ebc508f5a995"
      },
      "outputs": [
        {
          "output_type": "execute_result",
          "data": {
            "text/plain": [
              "(2, 2, 3)"
            ]
          },
          "metadata": {},
          "execution_count": 37
        }
      ],
      "source": [
        "arr3d.shape"
      ]
    },
    {
      "cell_type": "markdown",
      "metadata": {
        "id": "SLMOiTOm0ltr"
      },
      "source": [
        "# NumPy Arraylərini İndeksləmə"
      ]
    },
    {
      "cell_type": "code",
      "execution_count": null,
      "metadata": {
        "colab": {
          "base_uri": "https://localhost:8080/"
        },
        "id": "PGj6-Vfq0Y2v",
        "outputId": "fc674cd8-fd08-421a-a46e-3aeeb3d4c118"
      },
      "outputs": [
        {
          "data": {
            "text/plain": [
              "array([1, 2, 3, 4])"
            ]
          },
          "execution_count": 65,
          "metadata": {},
          "output_type": "execute_result"
        }
      ],
      "source": [
        "arr1d"
      ]
    },
    {
      "cell_type": "code",
      "execution_count": 38,
      "metadata": {
        "colab": {
          "base_uri": "https://localhost:8080/"
        },
        "id": "Yln2ca9w03_3",
        "outputId": "aa72afa5-b252-42e5-ce34-52f260dd48d9"
      },
      "outputs": [
        {
          "output_type": "execute_result",
          "data": {
            "text/plain": [
              "4"
            ]
          },
          "metadata": {},
          "execution_count": 38
        }
      ],
      "source": [
        "arr1d[3]"
      ]
    },
    {
      "cell_type": "code",
      "execution_count": 39,
      "metadata": {
        "colab": {
          "base_uri": "https://localhost:8080/"
        },
        "id": "ley4AvAW1A_e",
        "outputId": "aa982fef-3685-434b-fd05-2be6eaecc730"
      },
      "outputs": [
        {
          "output_type": "execute_result",
          "data": {
            "text/plain": [
              "array([[1, 2, 3],\n",
              "       [4, 5, 6]])"
            ]
          },
          "metadata": {},
          "execution_count": 39
        }
      ],
      "source": [
        "arr2d"
      ]
    },
    {
      "cell_type": "code",
      "execution_count": 42,
      "metadata": {
        "colab": {
          "base_uri": "https://localhost:8080/"
        },
        "id": "ldQw0cJC1Eo-",
        "outputId": "153b8ff2-2ab3-4952-c76e-4d5381293f31"
      },
      "outputs": [
        {
          "output_type": "execute_result",
          "data": {
            "text/plain": [
              "1"
            ]
          },
          "metadata": {},
          "execution_count": 42
        }
      ],
      "source": [
        "arr2d[0,0]"
      ]
    },
    {
      "cell_type": "code",
      "execution_count": 43,
      "metadata": {
        "colab": {
          "base_uri": "https://localhost:8080/"
        },
        "id": "_7aOAIJS1L1m",
        "outputId": "02b19dc7-6f76-446d-9afb-b7814b74b220"
      },
      "outputs": [
        {
          "output_type": "execute_result",
          "data": {
            "text/plain": [
              "array([[[  1,   2,   3],\n",
              "        [  4,   5,   6]],\n",
              "\n",
              "       [[  7,   8,   9],\n",
              "        [100, 200, 300]]])"
            ]
          },
          "metadata": {},
          "execution_count": 43
        }
      ],
      "source": [
        "arr3d"
      ]
    },
    {
      "cell_type": "code",
      "execution_count": null,
      "metadata": {
        "colab": {
          "base_uri": "https://localhost:8080/"
        },
        "id": "g7xANYif1Z_3",
        "outputId": "ed002449-f16c-43f0-de19-a1d89caa7770"
      },
      "outputs": [
        {
          "data": {
            "text/plain": [
              "6"
            ]
          },
          "execution_count": 73,
          "metadata": {},
          "output_type": "execute_result"
        }
      ],
      "source": [
        "arr3d[0][1][2]"
      ]
    },
    {
      "cell_type": "code",
      "source": [
        "arr3d[0,1,2]"
      ],
      "metadata": {
        "colab": {
          "base_uri": "https://localhost:8080/"
        },
        "id": "ROZmtNdtVvqt",
        "outputId": "bf513dc6-20da-40a9-8df4-793b21b9d9a7"
      },
      "execution_count": 44,
      "outputs": [
        {
          "output_type": "execute_result",
          "data": {
            "text/plain": [
              "6"
            ]
          },
          "metadata": {},
          "execution_count": 44
        }
      ]
    },
    {
      "cell_type": "code",
      "execution_count": 45,
      "metadata": {
        "colab": {
          "base_uri": "https://localhost:8080/"
        },
        "id": "919zWXVs1ntn",
        "outputId": "7c0c7a09-0986-4e7e-efeb-6a3b050d1418"
      },
      "outputs": [
        {
          "output_type": "execute_result",
          "data": {
            "text/plain": [
              "9"
            ]
          },
          "metadata": {},
          "execution_count": 45
        }
      ],
      "source": [
        "arr3d[1][0][-1]"
      ]
    },
    {
      "cell_type": "code",
      "execution_count": 46,
      "metadata": {
        "colab": {
          "base_uri": "https://localhost:8080/"
        },
        "id": "IyKOQ6uq2p_4",
        "outputId": "df777eb1-3ba4-4c5c-86f4-bcc9237f3a31"
      },
      "outputs": [
        {
          "output_type": "execute_result",
          "data": {
            "text/plain": [
              "57"
            ]
          },
          "metadata": {},
          "execution_count": 46
        }
      ],
      "source": [
        "arr = np.arange(53,62)\n",
        "arr[4]"
      ]
    },
    {
      "cell_type": "markdown",
      "metadata": {
        "id": "HZd5xf9E232D"
      },
      "source": [
        "# NumPy max,min funksiyaları"
      ]
    },
    {
      "cell_type": "code",
      "execution_count": 47,
      "metadata": {
        "colab": {
          "base_uri": "https://localhost:8080/"
        },
        "id": "fUjTIltC2tV_",
        "outputId": "9edb0447-fc26-416d-a5cf-d6a7f8084345"
      },
      "outputs": [
        {
          "output_type": "execute_result",
          "data": {
            "text/plain": [
              "array([11, 48, 57, 32, 12, 12, 88, 19, 28, 95])"
            ]
          },
          "metadata": {},
          "execution_count": 47
        }
      ],
      "source": [
        "arr = np.random.randint(1,100,10)\n",
        "arr"
      ]
    },
    {
      "cell_type": "code",
      "execution_count": 48,
      "metadata": {
        "colab": {
          "base_uri": "https://localhost:8080/"
        },
        "id": "F_vf65nF3GOn",
        "outputId": "662e936c-175f-481d-c98b-c3ec41737d6c"
      },
      "outputs": [
        {
          "output_type": "execute_result",
          "data": {
            "text/plain": [
              "95"
            ]
          },
          "metadata": {},
          "execution_count": 48
        }
      ],
      "source": [
        "arr.max()"
      ]
    },
    {
      "cell_type": "code",
      "execution_count": 49,
      "metadata": {
        "colab": {
          "base_uri": "https://localhost:8080/"
        },
        "id": "gBbrrkrR3OTo",
        "outputId": "f9864e43-15d1-46fb-c930-0de348b2770f"
      },
      "outputs": [
        {
          "output_type": "execute_result",
          "data": {
            "text/plain": [
              "9"
            ]
          },
          "metadata": {},
          "execution_count": 49
        }
      ],
      "source": [
        "arr.argmax()"
      ]
    },
    {
      "cell_type": "code",
      "execution_count": 50,
      "metadata": {
        "colab": {
          "base_uri": "https://localhost:8080/"
        },
        "id": "ozKaaOI43WHv",
        "outputId": "374fac4f-4b92-4271-8720-cdad4c2ed5eb"
      },
      "outputs": [
        {
          "output_type": "execute_result",
          "data": {
            "text/plain": [
              "11"
            ]
          },
          "metadata": {},
          "execution_count": 50
        }
      ],
      "source": [
        "arr.min()"
      ]
    },
    {
      "cell_type": "code",
      "execution_count": 51,
      "metadata": {
        "colab": {
          "base_uri": "https://localhost:8080/"
        },
        "id": "vleQTPwv3eoX",
        "outputId": "f9fdf55a-feff-444e-9a88-7ccb0a1d1cf2"
      },
      "outputs": [
        {
          "output_type": "execute_result",
          "data": {
            "text/plain": [
              "0"
            ]
          },
          "metadata": {},
          "execution_count": 51
        }
      ],
      "source": [
        "arr.argmin()"
      ]
    },
    {
      "cell_type": "markdown",
      "metadata": {
        "id": "ScNlenjX3r1-"
      },
      "source": [
        "# NumPy Arraylərində Slicing(Dilimləmə)"
      ]
    },
    {
      "cell_type": "code",
      "execution_count": 52,
      "metadata": {
        "colab": {
          "base_uri": "https://localhost:8080/"
        },
        "id": "FY7_NLoO3gw-",
        "outputId": "13f1952e-aa30-4c04-ea9d-42852f77aea3"
      },
      "outputs": [
        {
          "output_type": "execute_result",
          "data": {
            "text/plain": [
              "array([50, 51, 52, 53, 54, 55, 56, 57, 58, 59, 60, 61, 62, 63, 64])"
            ]
          },
          "metadata": {},
          "execution_count": 52
        }
      ],
      "source": [
        "arr = np.arange(50,65)\n",
        "arr"
      ]
    },
    {
      "cell_type": "code",
      "execution_count": 53,
      "metadata": {
        "colab": {
          "base_uri": "https://localhost:8080/"
        },
        "id": "M0qPYbmp35vn",
        "outputId": "80839118-e574-4d86-f410-929271c1da84"
      },
      "outputs": [
        {
          "output_type": "execute_result",
          "data": {
            "text/plain": [
              "array([55, 56, 57, 58, 59, 60])"
            ]
          },
          "metadata": {},
          "execution_count": 53
        }
      ],
      "source": [
        "arr[5:11]"
      ]
    },
    {
      "cell_type": "code",
      "execution_count": 54,
      "metadata": {
        "colab": {
          "base_uri": "https://localhost:8080/"
        },
        "id": "q3YB9FDY4I9X",
        "outputId": "8989a739-d666-4f1a-bd5e-d1d9c7a9b1fc"
      },
      "outputs": [
        {
          "output_type": "execute_result",
          "data": {
            "text/plain": [
              "array([60, 61, 62, 63, 64])"
            ]
          },
          "metadata": {},
          "execution_count": 54
        }
      ],
      "source": [
        "arr[-5:]"
      ]
    },
    {
      "cell_type": "code",
      "execution_count": 55,
      "metadata": {
        "colab": {
          "base_uri": "https://localhost:8080/"
        },
        "id": "fZ4MYWqG4Zvk",
        "outputId": "1a1a2c34-86df-4dda-e3a7-240979193b1e"
      },
      "outputs": [
        {
          "output_type": "execute_result",
          "data": {
            "text/plain": [
              "array([52, 54, 56, 58])"
            ]
          },
          "metadata": {},
          "execution_count": 55
        }
      ],
      "source": [
        "arr[2:10:2]"
      ]
    },
    {
      "cell_type": "code",
      "execution_count": 56,
      "metadata": {
        "id": "2lWUzaep4yks"
      },
      "outputs": [],
      "source": [
        "arr[5:11] = 999 # Broadcasting"
      ]
    },
    {
      "cell_type": "code",
      "execution_count": 57,
      "metadata": {
        "colab": {
          "base_uri": "https://localhost:8080/"
        },
        "id": "sMhtk-vS5gGE",
        "outputId": "37758243-f0dc-4c24-c868-af852d9e32f6"
      },
      "outputs": [
        {
          "output_type": "execute_result",
          "data": {
            "text/plain": [
              "array([ 50,  51,  52,  53,  54, 999, 999, 999, 999, 999, 999,  61,  62,\n",
              "        63,  64])"
            ]
          },
          "metadata": {},
          "execution_count": 57
        }
      ],
      "source": [
        "arr"
      ]
    },
    {
      "cell_type": "code",
      "execution_count": 58,
      "metadata": {
        "colab": {
          "base_uri": "https://localhost:8080/"
        },
        "id": "5anafgM46ezb",
        "outputId": "b8b7e1f0-3484-49c0-f316-11d1082fa782"
      },
      "outputs": [
        {
          "output_type": "execute_result",
          "data": {
            "text/plain": [
              "array([-25, -24, -23, -22, -21, -20, -19, -18, -17, -16, -15, -14, -13,\n",
              "       -12])"
            ]
          },
          "metadata": {},
          "execution_count": 58
        }
      ],
      "source": [
        "arr = np.arange(-30 , 11)\n",
        "arr[5:19]"
      ]
    },
    {
      "cell_type": "code",
      "execution_count": null,
      "metadata": {
        "id": "co403JvN6i8P"
      },
      "outputs": [],
      "source": [
        "# .dtype attribute"
      ]
    },
    {
      "cell_type": "code",
      "execution_count": 59,
      "metadata": {
        "colab": {
          "base_uri": "https://localhost:8080/"
        },
        "id": "hGc2lm5_7J6C",
        "outputId": "4ebe9213-43ba-4171-f45a-7ccf27fec1da"
      },
      "outputs": [
        {
          "output_type": "execute_result",
          "data": {
            "text/plain": [
              "array([0, 1, 2, 3, 4, 5, 6, 7, 8, 9])"
            ]
          },
          "metadata": {},
          "execution_count": 59
        }
      ],
      "source": [
        "arr = np.arange(10)\n",
        "arr"
      ]
    },
    {
      "cell_type": "code",
      "execution_count": 60,
      "metadata": {
        "colab": {
          "base_uri": "https://localhost:8080/"
        },
        "id": "vAhqXCXV7LKG",
        "outputId": "3b8419e3-f3af-4b7c-9ed6-474e01232a82"
      },
      "outputs": [
        {
          "output_type": "execute_result",
          "data": {
            "text/plain": [
              "dtype('int64')"
            ]
          },
          "metadata": {},
          "execution_count": 60
        }
      ],
      "source": [
        "arr.dtype"
      ]
    },
    {
      "cell_type": "code",
      "execution_count": 61,
      "metadata": {
        "colab": {
          "base_uri": "https://localhost:8080/"
        },
        "id": "ITbJIXMA7RiW",
        "outputId": "7ba0aea5-f673-48be-a14b-3a7a032cf956"
      },
      "outputs": [
        {
          "output_type": "execute_result",
          "data": {
            "text/plain": [
              "array([ 0.,  1.,  2.,  3.,  4.,  5.,  6.,  7.,  8.,  9., 10., 11., 12.,\n",
              "       13., 14., 15., 16., 17., 18., 19., 20., 21., 22., 23., 24., 25.,\n",
              "       26., 27., 28., 29., 30., 31., 32., 33., 34., 35., 36., 37., 38.,\n",
              "       39., 40., 41., 42., 43., 44., 45., 46., 47., 48., 49., 50., 51.,\n",
              "       52., 53., 54., 55., 56., 57., 58., 59., 60., 61., 62., 63., 64.,\n",
              "       65., 66., 67., 68., 69., 70., 71., 72., 73., 74., 75., 76., 77.,\n",
              "       78., 79., 80., 81., 82., 83., 84., 85., 86., 87., 88., 89., 90.,\n",
              "       91., 92., 93., 94., 95., 96., 97., 98., 99.])"
            ]
          },
          "metadata": {},
          "execution_count": 61
        }
      ],
      "source": [
        "arr2 = np.arange(100, dtype = 'float')\n",
        "arr2"
      ]
    },
    {
      "cell_type": "code",
      "execution_count": 62,
      "metadata": {
        "colab": {
          "base_uri": "https://localhost:8080/"
        },
        "id": "XeFbPr0g7cUG",
        "outputId": "8f0be77e-1691-4c1e-c1d3-71f3aebb0655"
      },
      "outputs": [
        {
          "output_type": "execute_result",
          "data": {
            "text/plain": [
              "dtype('float64')"
            ]
          },
          "metadata": {},
          "execution_count": 62
        }
      ],
      "source": [
        "arr2.dtype"
      ]
    },
    {
      "cell_type": "code",
      "execution_count": 63,
      "metadata": {
        "colab": {
          "base_uri": "https://localhost:8080/"
        },
        "id": "IbJvz39W7eqO",
        "outputId": "9e79f553-83a1-4cbc-d409-d144efd71f54"
      },
      "outputs": [
        {
          "output_type": "execute_result",
          "data": {
            "text/plain": [
              "array(['a', 'b', 'c'], dtype='<U1')"
            ]
          },
          "metadata": {},
          "execution_count": 63
        }
      ],
      "source": [
        "arr3 = np.array(['a','b','c'])\n",
        "arr3"
      ]
    },
    {
      "cell_type": "code",
      "execution_count": 64,
      "metadata": {
        "colab": {
          "base_uri": "https://localhost:8080/"
        },
        "id": "y6Q99AF97lPG",
        "outputId": "12ddaa2f-31a1-4ad5-ede8-40eda39a41ba"
      },
      "outputs": [
        {
          "output_type": "execute_result",
          "data": {
            "text/plain": [
              "dtype('<U1')"
            ]
          },
          "metadata": {},
          "execution_count": 64
        }
      ],
      "source": [
        "arr3.dtype"
      ]
    },
    {
      "cell_type": "markdown",
      "metadata": {
        "id": "abQx20l77soF"
      },
      "source": [
        "# Bir Arrayin Dtype'ını Deyişdirmək"
      ]
    },
    {
      "cell_type": "code",
      "execution_count": 65,
      "metadata": {
        "colab": {
          "base_uri": "https://localhost:8080/"
        },
        "id": "hwqzVIhb7nd-",
        "outputId": "e6e26f70-cdd3-4902-c2a9-a2a4ee966b14"
      },
      "outputs": [
        {
          "output_type": "execute_result",
          "data": {
            "text/plain": [
              "array([1.2, 3.5, 5.8])"
            ]
          },
          "metadata": {},
          "execution_count": 65
        }
      ],
      "source": [
        "arr = np.array([1.2 , 3.5 , 5.8])\n",
        "arr"
      ]
    },
    {
      "cell_type": "code",
      "execution_count": 66,
      "metadata": {
        "colab": {
          "base_uri": "https://localhost:8080/"
        },
        "id": "VzdT62is7zCe",
        "outputId": "ee0f3ea7-9454-4d97-d22a-75af069a8de4"
      },
      "outputs": [
        {
          "output_type": "execute_result",
          "data": {
            "text/plain": [
              "dtype('float64')"
            ]
          },
          "metadata": {},
          "execution_count": 66
        }
      ],
      "source": [
        "arr.dtype"
      ]
    },
    {
      "cell_type": "code",
      "execution_count": 67,
      "metadata": {
        "colab": {
          "base_uri": "https://localhost:8080/"
        },
        "id": "9OWEM_3C8A7i",
        "outputId": "cb24fb43-6747-482c-8911-8cf6bcde867b"
      },
      "outputs": [
        {
          "output_type": "execute_result",
          "data": {
            "text/plain": [
              "array([1, 3, 5])"
            ]
          },
          "metadata": {},
          "execution_count": 67
        }
      ],
      "source": [
        "arr = arr.astype('int')\n",
        "arr"
      ]
    },
    {
      "cell_type": "code",
      "execution_count": 68,
      "metadata": {
        "id": "AoqlGXnH8Nif"
      },
      "outputs": [],
      "source": [
        "arr = np.array(['5', '7', '19', '1', '22', '99', '4'])"
      ]
    },
    {
      "cell_type": "code",
      "execution_count": 69,
      "metadata": {
        "colab": {
          "base_uri": "https://localhost:8080/"
        },
        "id": "oQz-o36q82GP",
        "outputId": "11b52d78-0dc3-4d5a-80e0-a46a5ad91414"
      },
      "outputs": [
        {
          "output_type": "execute_result",
          "data": {
            "text/plain": [
              "array(['5', '7', '19', '1', '22', '99', '4'], dtype='<U2')"
            ]
          },
          "metadata": {},
          "execution_count": 69
        }
      ],
      "source": [
        "arr"
      ]
    },
    {
      "cell_type": "code",
      "execution_count": 70,
      "metadata": {
        "id": "slrRQ5s38OPv"
      },
      "outputs": [],
      "source": [
        "arr = arr.astype(int)"
      ]
    },
    {
      "cell_type": "code",
      "execution_count": 71,
      "metadata": {
        "colab": {
          "base_uri": "https://localhost:8080/"
        },
        "id": "5N9GNNZL8w5e",
        "outputId": "1d34b7a1-1776-436b-af64-43e0290e56fc"
      },
      "outputs": [
        {
          "output_type": "execute_result",
          "data": {
            "text/plain": [
              "array([ 5,  7, 19,  1, 22, 99,  4])"
            ]
          },
          "metadata": {},
          "execution_count": 71
        }
      ],
      "source": [
        "arr"
      ]
    },
    {
      "cell_type": "code",
      "execution_count": null,
      "metadata": {
        "id": "cgaA5qyh8yyW"
      },
      "outputs": [],
      "source": [
        "# 1.Done"
      ]
    }
  ],
  "metadata": {
    "colab": {
      "provenance": []
    },
    "kernelspec": {
      "display_name": "Python 3",
      "name": "python3"
    },
    "language_info": {
      "name": "python"
    }
  },
  "nbformat": 4,
  "nbformat_minor": 0
}